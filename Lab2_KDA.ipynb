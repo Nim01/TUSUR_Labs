{
 "cells": [
  {
   "cell_type": "markdown",
   "id": "33859f73",
   "metadata": {},
   "source": [
    "# Лабораторная работа 2"
   ]
  },
  {
   "cell_type": "markdown",
   "id": "6eca14ce",
   "metadata": {},
   "source": [
    "Загрузите данные close_prices.csv. В этом файле приведены цены акций 30 компаний на закрытии торгов за каждый день периода между 2013 и 2015 годами.\n",
    "На загруженных данных обучите преобразование PCA с числом компонент равным 10. Скольких компонент хватит, чтобы объяснить 90% дисперсии?\n",
    "Примените построенное преобразование к исходным данным и возьмите значения первой компоненты.\n",
    "Загрузите информацию об индексе Доу-Джонса из файла djia_index.csv. Чему равна корреляция Пирсона между первой компонентой и индексом Доу-Джонса?\n",
    "Какая компания имеет наибольший вес в первой компоненте? Укажите ее название."
   ]
  },
  {
   "cell_type": "markdown",
   "id": "02c692a1",
   "metadata": {},
   "source": [
    "### Часть 1. Загрузка данных, применение РСА к данным (количество компонент 10) "
   ]
  },
  {
   "cell_type": "code",
   "execution_count": 2,
   "id": "9570977a",
   "metadata": {
    "scrolled": false
   },
   "outputs": [],
   "source": [
    "import pandas as pd\n",
    "import numpy as np\n",
    "\n",
    "#Чтение данных из файла\n",
    "price = pd.read_csv('close_prices.csv',delimiter=',')\n",
    "\n",
    "#Преобразование данных в массив NumPy\n",
    "x = price.to_numpy()\n",
    "x = x[:,1:31].astype(float)\n",
    "\n",
    "#Метод главных компонет\n",
    "xc = x - np.mean(x , axis = 0)   #Центрирование данных\n",
    "xn = xc/np.std(xc , axis = 0)   #Нормирование данных\n",
    "cov_mat = np.cov(xn , rowvar = False)   #Расчет матрицы ковариации\n",
    "eigen_values , eigen_vectors = np.linalg.eigh(cov_mat)   #Находим собственные значения и векторы матрицы ковариации\n",
    "sorted_index = np.argsort(eigen_values)[::-1]   #Сортируем по убыванию собственные значения\n",
    "sorted_eigenvalue = eigen_values[sorted_index]\n",
    "sorted_eigenvectors = eigen_vectors[:,sorted_index]   #Сортируем по убыванию собственные векторы\n",
    "n = 10   #Требуемое количество компонент\n",
    "eigenvector_subset = sorted_eigenvectors[:,0:n]   #Выбираем собственные векторы в количестве n\n",
    "xr = np.dot(eigenvector_subset.transpose() , xn.transpose()).transpose()   #Компактная форма\n",
    "xn_re = np.dot(xr, eigenvector_subset.transpose())   #Восстановление данных"
   ]
  },
  {
   "cell_type": "markdown",
   "id": "f60c741a",
   "metadata": {},
   "source": [
    "### Часть 2. Сколько компонент хватит, чтобы объяснить 90% дисперсии?"
   ]
  },
  {
   "cell_type": "markdown",
   "id": "c5f571c7",
   "metadata": {},
   "source": [
    "Предполагаемый ответ. Если сложить все 30 sorted_eigenvalue, то получится некое число (30.08042895442359), которое означает 100% дисперсии. Следовательно нужно найти такое количество sorted_eigenvalue, которое в сумме даст число, большее (30.08042895442359*0.9 = 27,07238606)"
   ]
  },
  {
   "cell_type": "code",
   "execution_count": 4,
   "id": "429032ac",
   "metadata": {},
   "outputs": [
    {
     "name": "stdout",
     "output_type": "stream",
     "text": [
      "Количество компонент, чтобы объяснить 90% дисперсии равно: 6\n"
     ]
    }
   ],
   "source": [
    "perc = np.zeros(30, float)\n",
    "for i in range(30):\n",
    "    perc[i] = sorted_eigenvalue[i] + perc[i-1]\n",
    "perc = perc/perc[29]\n",
    "print('Количество компонент, чтобы объяснить 90% дисперсии равно:', np.nonzero(perc > 0.9)[0][0] + 1)"
   ]
  },
  {
   "cell_type": "markdown",
   "id": "e979fd3e",
   "metadata": {},
   "source": [
    "### Часть 3. Возьмите значение первой компоненты"
   ]
  },
  {
   "cell_type": "code",
   "execution_count": 5,
   "id": "52b917cb",
   "metadata": {},
   "outputs": [],
   "source": [
    "first = xr[:,0]"
   ]
  },
  {
   "cell_type": "markdown",
   "id": "1acfe7b4",
   "metadata": {},
   "source": [
    "### Часть 4. Загрузите информацию об индексе Доу-Джонса из файла djia_index.csv"
   ]
  },
  {
   "cell_type": "code",
   "execution_count": 6,
   "id": "1e488997",
   "metadata": {},
   "outputs": [],
   "source": [
    "#Чтение данных из файла\n",
    "djia = pd.read_csv('djia_index.csv',delimiter=',')\n",
    "\n",
    "#Преобразование данных в массив NumPy\n",
    "dd = djia.to_numpy()\n",
    "dd = dd[:,1].astype(float)\n",
    "ddc = dd - np.mean(dd , axis = 0)   #Центрирование данных\n",
    "ddn = ddc/np.std(ddc , axis = 0)   #Нормирование данных"
   ]
  },
  {
   "cell_type": "markdown",
   "id": "03999b3a",
   "metadata": {},
   "source": [
    "### Часть 6. Чему равна корреляция Пирсона между первой компонентой и индексом Доу-Джонса?"
   ]
  },
  {
   "cell_type": "code",
   "execution_count": 7,
   "id": "e0f921c6",
   "metadata": {},
   "outputs": [
    {
     "name": "stdout",
     "output_type": "stream",
     "text": [
      "Корреляция Пирсона между первой компонентой и индексом Доу-Джонса равна: -0.9468481520945369\n"
     ]
    }
   ],
   "source": [
    "print('Корреляция Пирсона между первой компонентой и индексом Доу-Джонса равна:', np.corrcoef(first, ddn)[0, 1])"
   ]
  },
  {
   "cell_type": "markdown",
   "id": "10ccebbe",
   "metadata": {},
   "source": [
    "### Часть 7. Какая компания имеет наибольший вес в первой компоненте? Укажите ее название."
   ]
  },
  {
   "cell_type": "code",
   "execution_count": 19,
   "id": "45f5cb56",
   "metadata": {},
   "outputs": [
    {
     "name": "stdout",
     "output_type": "stream",
     "text": [
      "Название компании, имеющей наибольший вес в первой компоненте: MMM\n"
     ]
    }
   ],
   "source": [
    "corr = np.zeros(30, float)\n",
    "for i in range(30):\n",
    "    corr[i] = np.absolute(np.corrcoef(xn[:,i], first)[0, 1])\n",
    "\n",
    "col_names = pd.read_csv('close_prices.csv', nrows=0).columns[1:]\n",
    "print('Название компании, имеющей наибольший вес в первой компоненте:', col_names[np.argmax(corr)])"
   ]
  },
  {
   "cell_type": "code",
   "execution_count": null,
   "id": "eca27634",
   "metadata": {},
   "outputs": [],
   "source": []
  }
 ],
 "metadata": {
  "kernelspec": {
   "display_name": "Python 3",
   "language": "python",
   "name": "python3"
  },
  "language_info": {
   "codemirror_mode": {
    "name": "ipython",
    "version": 3
   },
   "file_extension": ".py",
   "mimetype": "text/x-python",
   "name": "python",
   "nbconvert_exporter": "python",
   "pygments_lexer": "ipython3",
   "version": "3.8.8"
  }
 },
 "nbformat": 4,
 "nbformat_minor": 5
}
